{
 "cells": [
  {
   "cell_type": "code",
   "execution_count": null,
   "metadata": {},
   "outputs": [],
   "source": [
    "import pandas as pd\n",
    "import numpy as np\n",
    "import matplotlib.pyplot as plt\n",
    "import seaborn as sns\n",
    "%matplotlib inline"
   ]
  },
  {
   "cell_type": "code",
   "execution_count": null,
   "metadata": {},
   "outputs": [],
   "source": [
    "train = pd.read_excel(\"Train_dataset.xlsx\")"
   ]
  },
  {
   "cell_type": "markdown",
   "metadata": {},
   "source": [
    "# EDA and Data Cleaning"
   ]
  },
  {
   "cell_type": "code",
   "execution_count": null,
   "metadata": {},
   "outputs": [],
   "source": [
    "train"
   ]
  },
  {
   "cell_type": "code",
   "execution_count": null,
   "metadata": {},
   "outputs": [],
   "source": [
    "train.drop([\"people_ID\",\"Name\"],axis = 1, inplace = True)"
   ]
  },
  {
   "cell_type": "code",
   "execution_count": null,
   "metadata": {},
   "outputs": [],
   "source": [
    "train[\"Children\"].fillna(int(train[\"Children\"].mean()),inplace = True)"
   ]
  },
  {
   "cell_type": "code",
   "execution_count": null,
   "metadata": {},
   "outputs": [],
   "source": [
    "salaries = []\n",
    "occupations = []\n",
    "for i in train[\"Occupation\"].unique():\n",
    "    if i is np.nan:\n",
    "        continue\n",
    "    else:\n",
    "        temp = train[train[\"Occupation\"]==i][\"salary\"]\n",
    "        salaries.append(temp.mean())\n",
    "        occupations.append(i)"
   ]
  },
  {
   "cell_type": "code",
   "execution_count": null,
   "metadata": {},
   "outputs": [],
   "source": [
    "plt.figure(figsize=(12,15))\n",
    "plt.bar(occupations,salaries)\n",
    "plt.show()"
   ]
  },
  {
   "cell_type": "code",
   "execution_count": null,
   "metadata": {},
   "outputs": [],
   "source": [
    "occ = pd.DataFrame(salaries,index = occupations)\n",
    "occ"
   ]
  },
  {
   "cell_type": "code",
   "execution_count": null,
   "metadata": {},
   "outputs": [],
   "source": [
    "for i in train[train[\"Occupation\"].isnull()].index.tolist():\n",
    "    temp = (occ.values - train.loc[i,\"salary\"]).tolist()\n",
    "    minpos = temp.index(min(temp))\n",
    "    train.loc[i,\"Occupation\"] = occ.index[minpos]"
   ]
  },
  {
   "cell_type": "code",
   "execution_count": null,
   "metadata": {},
   "outputs": [],
   "source": [
    "train[\"Mode_transport\"].mode()"
   ]
  },
  {
   "cell_type": "code",
   "execution_count": null,
   "metadata": {},
   "outputs": [],
   "source": [
    "train[\"Mode_transport\"].fillna(\"Public\",inplace = True)"
   ]
  },
  {
   "cell_type": "code",
   "execution_count": null,
   "metadata": {},
   "outputs": [],
   "source": [
    "train[\"comorbidity\"].value_counts()"
   ]
  },
  {
   "cell_type": "code",
   "execution_count": null,
   "metadata": {},
   "outputs": [],
   "source": [
    "train[\"comorbidity\"].fillna(\"Hypertension\",inplace = True)"
   ]
  },
  {
   "cell_type": "code",
   "execution_count": null,
   "metadata": {},
   "outputs": [],
   "source": [
    "insurance = train[[\"Insurance\",\"salary\"]].dropna()[\"Insurance\"].tolist()\n",
    "salary = train[[\"Insurance\",\"salary\"]].dropna()[\"salary\"].tolist()\n",
    "np.corrcoef(insurance,salary)"
   ]
  },
  {
   "cell_type": "code",
   "execution_count": null,
   "metadata": {},
   "outputs": [],
   "source": [
    "insurance = []\n",
    "occupations = []\n",
    "for i in train[\"Occupation\"].unique():\n",
    "    if i is np.nan:\n",
    "        continue\n",
    "    else:\n",
    "        temp = train[train[\"Occupation\"]==i][\"salary\"]\n",
    "        insurance.append(temp.mean())\n",
    "        occupations.append(i)\n",
    "\n",
    "plt.figure(figsize=(10,8))\n",
    "plt.bar(occupations,insurance)\n",
    "plt.show()"
   ]
  },
  {
   "cell_type": "code",
   "execution_count": null,
   "metadata": {},
   "outputs": [],
   "source": [
    "occins = pd.DataFrame(insurance,index = occupations)\n",
    "occins"
   ]
  },
  {
   "cell_type": "code",
   "execution_count": null,
   "metadata": {},
   "outputs": [],
   "source": [
    "for i in train[train[\"Insurance\"].isnull()].index.tolist():\n",
    "    train.loc[i,\"Insurance\"] = occins[occins.index==train.loc[i,\"Occupation\"]][0].values"
   ]
  },
  {
   "cell_type": "code",
   "execution_count": null,
   "metadata": {},
   "outputs": [],
   "source": [
    "salary = []\n",
    "ftmonth = []\n",
    "for i in train[\"FT/month\"].unique():\n",
    "    if i is np.nan:\n",
    "        continue\n",
    "    else:\n",
    "        temp = train[train[\"FT/month\"]==i][\"salary\"]\n",
    "        salary.append(temp.mean())\n",
    "        ftmonth.append(i)\n",
    "\n",
    "plt.figure(figsize=(10,8))\n",
    "plt.bar(ftmonth,salary)\n",
    "plt.show()"
   ]
  },
  {
   "cell_type": "code",
   "execution_count": null,
   "metadata": {},
   "outputs": [],
   "source": [
    "salary"
   ]
  },
  {
   "cell_type": "code",
   "execution_count": null,
   "metadata": {},
   "outputs": [],
   "source": [
    "ftmonth"
   ]
  },
  {
   "cell_type": "code",
   "execution_count": null,
   "metadata": {},
   "outputs": [],
   "source": [
    "for i in train[train[\"FT/month\"].isnull()].index.tolist():\n",
    "    if train.loc[i,\"salary\"] > 1283621.4740673339:\n",
    "        train.loc[i,\"FT/month\"] = 1\n",
    "    else:\n",
    "        train.loc[i,\"FT/month\"] = 0\n",
    "        "
   ]
  },
  {
   "cell_type": "code",
   "execution_count": null,
   "metadata": {},
   "outputs": [],
   "source": [
    "cardio = []\n",
    "age = []\n",
    "for i in train[\"cardiological pressure\"].unique():\n",
    "    if i is np.nan:\n",
    "        continue\n",
    "    else:\n",
    "        temp = train[train[\"cardiological pressure\"]==i][\"Age\"]\n",
    "        age.append(temp.mean())\n",
    "        cardio.append(i)\n",
    "\n",
    "plt.figure(figsize=(10,8))\n",
    "plt.bar(cardio,age)\n",
    "plt.show()"
   ]
  },
  {
   "cell_type": "code",
   "execution_count": null,
   "metadata": {},
   "outputs": [],
   "source": [
    "age"
   ]
  },
  {
   "cell_type": "code",
   "execution_count": null,
   "metadata": {},
   "outputs": [],
   "source": [
    "for i in train[train[\"cardiological pressure\"].isnull()].index.tolist():\n",
    "    if train.loc[i,\"Age\"] > 55:\n",
    "        train.loc[i,\"cardiological pressure\"] = \"Stage-02\"\n",
    "    if train.loc[i,\"Age\"] < 55 and train.loc[i,\"Age\"] > 42:\n",
    "        train.loc[i,\"cardiological pressure\"] = \"Stage-01\"\n",
    "    if train.loc[i,\"Age\"] < 42 and train.loc[i,\"Age\"] > 29:\n",
    "        train.loc[i,\"cardiological pressure\"] = \"Elevated\"\n",
    "    else:\n",
    "         train.loc[i,\"cardiological pressure\"] = \"Normal\""
   ]
  },
  {
   "cell_type": "code",
   "execution_count": null,
   "metadata": {},
   "outputs": [],
   "source": [
    "cardio = []\n",
    "rate = []\n",
    "for i in train[\"cardiological pressure\"].unique():\n",
    "        temp = train[train[\"cardiological pressure\"]==i][\"Heart rate\"]\n",
    "        rate.append(temp.mean())\n",
    "        cardio.append(i)\n",
    "\n",
    "plt.figure(figsize=(10,8))\n",
    "plt.bar(cardio,rate)\n",
    "plt.show()"
   ]
  },
  {
   "cell_type": "code",
   "execution_count": null,
   "metadata": {},
   "outputs": [],
   "source": [
    "rate"
   ]
  },
  {
   "cell_type": "code",
   "execution_count": null,
   "metadata": {},
   "outputs": [],
   "source": [
    "for i in train[train[\"Heart rate\"].isnull()].index.tolist():\n",
    "    if train.loc[i,\"cardiological pressure\"] == \"Stage-02\":\n",
    "        train.loc[i,\"Heart rate\"] = 74.7600507829031\n",
    "    if train.loc[i,\"cardiological pressure\"] == \"Stage-01\":\n",
    "        train.loc[i,\"Heart rate\"] = 75.16139907290349\n",
    "    if train.loc[i,\"cardiological pressure\"] == \"Elevated\":\n",
    "        train.loc[i,\"Heart rate\"] = 74.86703020134229  \n",
    "    if train.loc[i,\"cardiological pressure\"] == \"Normal\":\n",
    "        train.loc[i,\"Heart rate\"] = 74.61129032258064"
   ]
  },
  {
   "cell_type": "code",
   "execution_count": null,
   "metadata": {},
   "outputs": [],
   "source": [
    "train[\"HBB\"].fillna(train[\"HBB\"].mean(),inplace = True)"
   ]
  },
  {
   "cell_type": "code",
   "execution_count": null,
   "metadata": {},
   "outputs": [],
   "source": [
    "train[\"HDL cholesterol\"].fillna(train[\"HDL cholesterol\"].mean(),inplace = True)"
   ]
  },
  {
   "cell_type": "code",
   "execution_count": null,
   "metadata": {},
   "outputs": [],
   "source": [
    "train[\"Platelets\"].fillna(train[\"Platelets\"].mean(),inplace = True)"
   ]
  },
  {
   "cell_type": "code",
   "execution_count": null,
   "metadata": {},
   "outputs": [],
   "source": [
    "platelets = train[[\"Platelets\",\"Age\"]].dropna()[\"Platelets\"].tolist()\n",
    "age = train[[\"Platelets\",\"Age\"]].dropna()[\"Age\"].tolist()\n"
   ]
  },
  {
   "cell_type": "code",
   "execution_count": null,
   "metadata": {},
   "outputs": [],
   "source": [
    "train[\"d-dimer\"].fillna(train[\"d-dimer\"].mean(),inplace = True)"
   ]
  },
  {
   "cell_type": "code",
   "execution_count": null,
   "metadata": {},
   "outputs": [],
   "source": [
    "train[\"Diuresis\"]=train_sheet2.iloc[:,1].values"
   ]
  },
  {
   "cell_type": "code",
   "execution_count": null,
   "metadata": {},
   "outputs": [],
   "source": [
    "plt.figure(figsize=(15,12))\n",
    "sns.heatmap(train.corr(),annot=True)\n",
    "plt.show()"
   ]
  },
  {
   "cell_type": "code",
   "execution_count": null,
   "metadata": {},
   "outputs": [],
   "source": [
    "train.drop([\"Heart rate\",\"Diuresis\",\"cases/1M\"],axis=1,inplace=True)"
   ]
  },
  {
   "cell_type": "code",
   "execution_count": null,
   "metadata": {},
   "outputs": [],
   "source": [
    "train_onehot = pd.get_dummies(train,drop_first = True)"
   ]
  },
  {
   "cell_type": "code",
   "execution_count": null,
   "metadata": {},
   "outputs": [],
   "source": [
    "train_onehot.shape"
   ]
  },
  {
   "cell_type": "markdown",
   "metadata": {},
   "source": [
    "# Making Final predictions for task 1\n"
   ]
  },
  {
   "cell_type": "code",
   "execution_count": null,
   "metadata": {},
   "outputs": [],
   "source": [
    "#After cleaning the train set was saved as clean_train.csv\n",
    "train2 = pd.read_csv(\"clean_train.csv\")\n",
    "train_sheet2 = pd.read_excel(\"Train_dataset.xlsx\",sheet_name =\"Diuresis_TS\")"
   ]
  },
  {
   "cell_type": "code",
   "execution_count": null,
   "metadata": {},
   "outputs": [],
   "source": [
    "train_sheet2.columns"
   ]
  },
  {
   "cell_type": "code",
   "execution_count": null,
   "metadata": {},
   "outputs": [],
   "source": [
    "train2.drop(['Unnamed: 0'],axis=1,inplace=True)"
   ]
  },
  {
   "cell_type": "code",
   "execution_count": null,
   "metadata": {},
   "outputs": [],
   "source": [
    "train2.drop(train2[train2[\"Region\"]==\"Chandigarh\"].index,inplace = True)"
   ]
  },
  {
   "cell_type": "code",
   "execution_count": null,
   "metadata": {},
   "outputs": [],
   "source": [
    "train2.drop([\"Heart rate\",\"cases/1M\",\"Designation\"],axis=1,inplace=True)"
   ]
  },
  {
   "cell_type": "code",
   "execution_count": null,
   "metadata": {},
   "outputs": [],
   "source": [
    "train2 = pd.get_dummies(train2,drop_first=True)"
   ]
  },
  {
   "cell_type": "code",
   "execution_count": null,
   "metadata": {},
   "outputs": [],
   "source": [
    "X2 = train2.drop([\"Infect_Prob\"],axis=1)\n",
    "y2 = train2[\"Infect_Prob\"]"
   ]
  },
  {
   "cell_type": "code",
   "execution_count": null,
   "metadata": {},
   "outputs": [],
   "source": [
    "X_train2,X_test2,y_train2,y_test2 = train_test_split(X2,y2,test_size=0.2,random_state = 6)"
   ]
  },
  {
   "cell_type": "code",
   "execution_count": null,
   "metadata": {},
   "outputs": [],
   "source": [
    "#Random forest performed the best out of the models I tested\n",
    "from sklearn.enseble import RandomForestRegressor\n",
    "rfr = RandomForestRegressor(n_jobs = -1,n_estimators=500,max_features = \"sqrt\",random_state=8)\n",
    "rfr.fit(X_train2,y_train2)\n",
    "rfr.score(X_test2,y_test2)"
   ]
  },
  {
   "cell_type": "code",
   "execution_count": null,
   "metadata": {},
   "outputs": [],
   "source": [
    "rfr.fit(X2,y2)"
   ]
  },
  {
   "cell_type": "code",
   "execution_count": null,
   "metadata": {},
   "outputs": [],
   "source": [
    "test = pd.read_excel(\"Test_dataset.xlsx\")\n",
    "test"
   ]
  },
  {
   "cell_type": "code",
   "execution_count": null,
   "metadata": {},
   "outputs": [],
   "source": [
    "test.drop([\"people_ID\",\"Name\",\"Heart rate\",\"cases/1M\",\"Designation\"],axis = 1,inplace = True)"
   ]
  },
  {
   "cell_type": "code",
   "execution_count": null,
   "metadata": {},
   "outputs": [],
   "source": [
    "for i in test.index:\n",
    "    \n",
    "    if test.loc[i,\"Region\"] == \"Hyderabad\":\n",
    "        test.loc[i,\"Region\"] = \"Bengaluru\"\n",
    "    if test.loc[i,\"Region\"] == \"Kolkata\":\n",
    "        test.loc[i,\"Region\"] = \"Bhubaneshwar\"\n",
    "    if test.loc[i,\"Region\"] == \"Mumbai\":\n",
    "        test.loc[i,\"Region\"] = \"Bengaluru\"\n",
    "    if test.loc[i,\"Region\"] == \"Pune\":\n",
    "        test.loc[i,\"Region\"] = \"Bengaluru\"\n",
    "    if test.loc[i,\"Region\"] == \"Thiruvananthapuram\":\n",
    "        test.loc[i,\"Region\"] = \"Chennai\""
   ]
  },
  {
   "cell_type": "code",
   "execution_count": null,
   "metadata": {},
   "outputs": [],
   "source": [
    "test = pd.get_dummies(test,drop_first = True)"
   ]
  },
  {
   "cell_type": "code",
   "execution_count": null,
   "metadata": {},
   "outputs": [],
   "source": [
    "X2.columns == test.columns"
   ]
  },
  {
   "cell_type": "code",
   "execution_count": null,
   "metadata": {},
   "outputs": [],
   "source": [
    "task1 = rfr.predict(test)"
   ]
  },
  {
   "cell_type": "code",
   "execution_count": null,
   "metadata": {},
   "outputs": [],
   "source": [
    "task1 = pd.DataFrame(task1)"
   ]
  },
  {
   "cell_type": "code",
   "execution_count": null,
   "metadata": {},
   "outputs": [],
   "source": [
    "task1.to_csv(\"task1-vals.csv\",index = False)"
   ]
  },
  {
   "cell_type": "markdown",
   "metadata": {},
   "source": [
    "# Final Predictions for task 2"
   ]
  },
  {
   "cell_type": "code",
   "execution_count": null,
   "metadata": {},
   "outputs": [],
   "source": [
    "train_sheet2"
   ]
  },
  {
   "cell_type": "code",
   "execution_count": null,
   "metadata": {},
   "outputs": [],
   "source": [
    "train_sheet2.drop([\"people_ID\"], axis=1, inplace=True)"
   ]
  },
  {
   "cell_type": "code",
   "execution_count": null,
   "metadata": {},
   "outputs": [],
   "source": [
    "date_columns = train_sheet2.columns\n",
    "i1 = train_sheet2.iloc[2,:].values.reshape(7,)"
   ]
  },
  {
   "cell_type": "code",
   "execution_count": null,
   "metadata": {},
   "outputs": [],
   "source": [
    "plt.figure(figsize=(15,8))\n",
    "plt.plot(date_columns,i1)\n",
    "#A similar graph obtained for all the records"
   ]
  },
  {
   "cell_type": "code",
   "execution_count": null,
   "metadata": {},
   "outputs": [],
   "source": [
    "#After trying a few Algos, its seen that SVR with linear kernel performs the best\n",
    "svr = SVR(kernel = \"linear\", C=0.01, epsilon = 0.1)\n",
    "svr.fit(X_train,y_train)\n",
    "svr.predict(X_test)"
   ]
  },
  {
   "cell_type": "code",
   "execution_count": null,
   "metadata": {},
   "outputs": [],
   "source": [
    "from hypopt import GridSearch"
   ]
  },
  {
   "cell_type": "code",
   "execution_count": null,
   "metadata": {},
   "outputs": [],
   "source": [
    "def model(X,y):\n",
    "    X_train =np.reshape(np.array(X[:-1]),(3,3))\n",
    "    y_train = np.reshape(np.array(y[:-1]),(3,1))\n",
    "    X_test = np.reshape(np.array(X[-1]),(1,3))\n",
    "    y_test = np.reshape(np.array(y[-1]),(1,1))\n",
    "    params = {'C':[1,0.1,0.01] , 'epsilon':[1,0.1,0.01],'kernel':[\"linear\"]}\n",
    "    svr = SVR()\n",
    "    cv = GridSearch(svr,param_grid = params,parallelize = False)\n",
    "    cv.fit(X_train,y_train,X_test,y_test)\n",
    "    return cv"
   ]
  },
  {
   "cell_type": "code",
   "execution_count": null,
   "metadata": {},
   "outputs": [],
   "source": [
    "def predictval(X,y,X_test,**params):\n",
    "    svr=SVR()\n",
    "    svr.set_params(**params)\n",
    "    svr.fit(X,y)\n",
    "    a = svr.predict(X_test)\n",
    "    return a"
   ]
  },
  {
   "cell_type": "code",
   "execution_count": null,
   "metadata": {},
   "outputs": [],
   "source": [
    "ypred=[]\n",
    "for i in train_sheet2.index:\n",
    "    X=[]\n",
    "    y=[]\n",
    "    X_test = []\n",
    "    X.append(train_sheet2.iloc[i,0:3].tolist())\n",
    "    X.append(train_sheet2.iloc[i,1:4].tolist())\n",
    "    X.append(train_sheet2.iloc[i,2:5].tolist())\n",
    "    X.append(train_sheet2.iloc[i,3:6].tolist())\n",
    "    X_test.append(train_sheet2.iloc[i,4:7].tolist())\n",
    "    y.append(train_sheet2.iloc[i,3])\n",
    "    y.append(train_sheet2.iloc[i,4])\n",
    "    y.append(train_sheet2.iloc[i,5])\n",
    "    y.append(train_sheet2.iloc[i,6])\n",
    "    mod = model(X,y)\n",
    "    params = mod.best_params\n",
    "    b = predictval(X,y,X_test,**params)\n",
    "    ypred.append(b)"
   ]
  },
  {
   "cell_type": "code",
   "execution_count": null,
   "metadata": {},
   "outputs": [],
   "source": [
    "ypred = pd.DataFrame(ypred)\n",
    "ypred.columns = [\"Diuresis\"]\n",
    "ypred = pd.concat([train[\"people_ID\"],ypred],axis = 1)"
   ]
  },
  {
   "cell_type": "code",
   "execution_count": null,
   "metadata": {},
   "outputs": [],
   "source": [
    "ypred.to_csv(\"Time_Series_Pred.csv\",index = False)"
   ]
  },
  {
   "cell_type": "code",
   "execution_count": null,
   "metadata": {},
   "outputs": [],
   "source": [
    "diur = pd.read_csv(\"Time_Series_Pred.csv\")"
   ]
  },
  {
   "cell_type": "code",
   "execution_count": null,
   "metadata": {},
   "outputs": [],
   "source": [
    "train3 = pd.read_csv(\"clean_train.csv\")"
   ]
  },
  {
   "cell_type": "code",
   "execution_count": null,
   "metadata": {},
   "outputs": [],
   "source": [
    "train3.drop(['Unnamed: 0','Infect_Prob'],axis=1,inplace=True)"
   ]
  },
  {
   "cell_type": "code",
   "execution_count": null,
   "metadata": {},
   "outputs": [],
   "source": [
    "train_diur = pd.concat([train3[\"Diuresis\"],diur[\"Diuresis\"]],axis =1)"
   ]
  },
  {
   "cell_type": "code",
   "execution_count": null,
   "metadata": {},
   "outputs": [],
   "source": [
    "train_diur.columns = ['Diuresis','Diuresis_pred']"
   ]
  },
  {
   "cell_type": "code",
   "execution_count": null,
   "metadata": {},
   "outputs": [],
   "source": [
    "train_diur.columns"
   ]
  },
  {
   "cell_type": "code",
   "execution_count": null,
   "metadata": {},
   "outputs": [],
   "source": [
    "X_diur = train_diur[\"Diuresis\"]"
   ]
  },
  {
   "cell_type": "code",
   "execution_count": null,
   "metadata": {},
   "outputs": [],
   "source": [
    "y_diur = train_diur[\"Diuresis_pred\"]"
   ]
  },
  {
   "cell_type": "code",
   "execution_count": null,
   "metadata": {},
   "outputs": [],
   "source": [
    "from sklearn.model_selection import train_test_split"
   ]
  },
  {
   "cell_type": "code",
   "execution_count": null,
   "metadata": {},
   "outputs": [],
   "source": [
    "X_diur_train,X_diur_test,y_diur_train,y_diur_test = train_test_split(X_diur,y_diur,test_size=0.2,random_state=4)"
   ]
  },
  {
   "cell_type": "code",
   "execution_count": null,
   "metadata": {},
   "outputs": [],
   "source": [
    "#SVR performed the best for generalising 20th and 27th diuresis values\n",
    "from sklearn.svm import SVR\n",
    "svr_diur = SVR(kernel = 'linear')\n",
    "svr_diur.fit(X_diur_train.values.reshape(-1,1),y_diur_train)\n",
    "svr_diur.score(X_diur_test.values.reshape(-1,1),y_diur_test)"
   ]
  },
  {
   "cell_type": "code",
   "execution_count": null,
   "metadata": {},
   "outputs": [],
   "source": [
    "svr_diur.fit(X_diur.values.reshape(-1,1),y_diur)"
   ]
  },
  {
   "cell_type": "code",
   "execution_count": null,
   "metadata": {},
   "outputs": [],
   "source": [
    "test_diur = pd.read_excel(\"Test_dataset.xlsx\")"
   ]
  },
  {
   "cell_type": "code",
   "execution_count": null,
   "metadata": {},
   "outputs": [],
   "source": [
    "ypred = rfc_diur.predict(test_diur[\"Diuresis\"].values.reshape(-1,1))"
   ]
  },
  {
   "cell_type": "code",
   "execution_count": null,
   "metadata": {},
   "outputs": [],
   "source": [
    "ypred = pd.DataFrame(ypred)\n",
    "ypred.columns = [\"Diuresis_pred\"]"
   ]
  },
  {
   "cell_type": "code",
   "execution_count": null,
   "metadata": {},
   "outputs": [],
   "source": [
    "test_task2 = pd.read_excel(\"Test_dataset.xlsx\")"
   ]
  },
  {
   "cell_type": "code",
   "execution_count": null,
   "metadata": {},
   "outputs": [],
   "source": [
    "test_task2.drop([\"people_ID\",\"Name\",\"Heart rate\",\"cases/1M\",\"Designation\"],axis = 1,inplace = True)"
   ]
  },
  {
   "cell_type": "code",
   "execution_count": null,
   "metadata": {},
   "outputs": [],
   "source": [
    "for i in test_task2.index:\n",
    "    \n",
    "    if test_task2.loc[i,\"Region\"] == \"Hyderabad\":\n",
    "        test_task2.loc[i,\"Region\"] = \"Bengaluru\"\n",
    "    if test_task2.loc[i,\"Region\"] == \"Kolkata\":\n",
    "        test_task2.loc[i,\"Region\"] = \"Bhubaneshwar\"\n",
    "    if test_task2.loc[i,\"Region\"] == \"Mumbai\":\n",
    "        test_task2.loc[i,\"Region\"] = \"Bengaluru\"\n",
    "    if test_task2.loc[i,\"Region\"] == \"Pune\":\n",
    "        test_task2.loc[i,\"Region\"] = \"Bengaluru\"\n",
    "    if test_task2.loc[i,\"Region\"] == \"Thiruvananthapuram\":\n",
    "        test_task2.loc[i,\"Region\"] = \"Chennai\""
   ]
  },
  {
   "cell_type": "code",
   "execution_count": null,
   "metadata": {},
   "outputs": [],
   "source": [
    "test_task2 = pd.get_dummies(test_task2,drop_first = True)"
   ]
  },
  {
   "cell_type": "code",
   "execution_count": null,
   "metadata": {},
   "outputs": [],
   "source": [
    "X2.columns == test_task2.columns"
   ]
  },
  {
   "cell_type": "code",
   "execution_count": null,
   "metadata": {},
   "outputs": [],
   "source": [
    "test_task2.loc[:,\"Diuresis\"] = ypred.loc[:,\"Diuresis_pred\"].values"
   ]
  },
  {
   "cell_type": "code",
   "execution_count": null,
   "metadata": {},
   "outputs": [],
   "source": [
    "task2 = rfr.predict(test_task2)"
   ]
  },
  {
   "cell_type": "code",
   "execution_count": null,
   "metadata": {},
   "outputs": [],
   "source": [
    "task2 = pd.DataFrame(task2)"
   ]
  },
  {
   "cell_type": "code",
   "execution_count": null,
   "metadata": {},
   "outputs": [],
   "source": [
    "task2.to_csv(\"task2-vals.csv\",index=False)"
   ]
  },
  {
   "cell_type": "code",
   "execution_count": null,
   "metadata": {},
   "outputs": [],
   "source": []
  }
 ],
 "metadata": {
  "kernelspec": {
   "display_name": "Python 3",
   "language": "python",
   "name": "python3"
  },
  "language_info": {
   "codemirror_mode": {
    "name": "ipython",
    "version": 3
   },
   "file_extension": ".py",
   "mimetype": "text/x-python",
   "name": "python",
   "nbconvert_exporter": "python",
   "pygments_lexer": "ipython3",
   "version": "3.7.6"
  }
 },
 "nbformat": 4,
 "nbformat_minor": 4
}
